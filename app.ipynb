{
 "cells": [
  {
   "cell_type": "code",
   "execution_count": null,
   "metadata": {},
   "outputs": [
    {
     "name": "stdout",
     "output_type": "stream",
     "text": [
      "Mean Pixel Intensity: 129.05\n",
      "Defect Prediction: Severe defects detected (34.87%)\n",
      "Image processing complete. Processed images saved in 'processed_images' folder.\n"
     ]
    }
   ],
   "source": [
    "import cv2\n",
    "import numpy as np\n",
    "import matplotlib.pyplot as plt\n",
    "import os\n",
    "\n",
    "\n",
    "os.makedirs(\"processed_images\", exist_ok=True)\n",
    "\n",
    "# Load the image\n",
    "image_path = \"clean.jpg\"\n",
    "image = cv2.imread(image_path)\n",
    "gray_image = cv2.cvtColor(image, cv2.COLOR_BGR2GRAY)\n",
    "\n",
    "# 1. Pixel-Level Analysis: Calculate Mean Intensity and Histogram\n",
    "mean_intensity = np.mean(gray_image)\n",
    "print(f\"Mean Pixel Intensity: {mean_intensity:.2f}\")\n",
    "\n",
    "# Display Histogram\n",
    "plt.hist(gray_image.ravel(), bins=256, range=[0, 256])  # Updated to fix deprecation warning\n",
    "plt.title('Histogram of Pixel Intensities')\n",
    "plt.xlabel('Pixel Intensity')\n",
    "plt.ylabel('Frequency')\n",
    "plt.savefig('processed_images/pixel_histogram.png')\n",
    "plt.close()\n",
    "\n",
    "# 2. Image Processing Techniques\n",
    "# Grayscale to RGB Conversion (for visualization)\n",
    "rgb_image = cv2.cvtColor(gray_image, cv2.COLOR_GRAY2BGR)\n",
    "\n",
    "# Edge Detection using Canny\n",
    "edges = cv2.Canny(gray_image, 100, 200)\n",
    "\n",
    "# Thresholding for Defect Detection\n",
    "_, thresholded = cv2.threshold(gray_image, 120, 255, cv2.THRESH_BINARY_INV)\n",
    "\n",
    "# Find Contours (defective areas)\n",
    "contours, _ = cv2.findContours(thresholded, cv2.RETR_EXTERNAL, cv2.CHAIN_APPROX_SIMPLE)\n",
    "\n",
    "# Calculate Defect Area\n",
    "total_defect_area = sum([cv2.contourArea(contour) for contour in contours if cv2.contourArea(contour) > 100])\n",
    "\n",
    "# Calculate Total Image Area\n",
    "total_image_area = gray_image.shape[0] * gray_image.shape[1]\n",
    "\n",
    "# Defect Percentage\n",
    "defect_percentage = (total_defect_area / total_image_area) * 100\n",
    "\n",
    "# Annotate Detected Defects\n",
    "for contour in contours:\n",
    "    if cv2.contourArea(contour) > 100:  # Filter small noise\n",
    "        x, y, w, h = cv2.boundingRect(contour)\n",
    "        cv2.rectangle(image, (x, y), (x + w, y + h), (0, 0, 255), 2)  # Draw bounding box around defect\n",
    "\n",
    "# Print Defect Prediction Output\n",
    "if defect_percentage == 0:\n",
    "    print(\"Defect Prediction: No defects detected (0%)\")\n",
    "elif defect_percentage < 5:\n",
    "    print(f\"Defect Prediction: Minor defects detected ({defect_percentage:.2f}%)\")\n",
    "elif defect_percentage < 20:\n",
    "    print(f\"Defect Prediction: Moderate defects detected ({defect_percentage:.2f}%)\")\n",
    "else:\n",
    "    print(f\"Defect Prediction: Severe defects detected ({defect_percentage:.2f}%)\")\n",
    "\n",
    "# 3. Image Format Handling and Compression\n",
    "cv2.imwrite(\"processed_images/defect_detected.png\", image)  # Save as PNG\n",
    "cv2.imwrite(\"processed_images/defect_detected_compressed.jpg\", image, [cv2.IMWRITE_JPEG_QUALITY, 50])  # Compressed JPEG\n",
    "cv2.imwrite(\"processed_images/defect_detected.tiff\", image)  # Save as TIFF\n",
    "\n",
    "print(\"Image processing complete. Processed images saved in 'processed_images' folder.\")\n"
   ]
  }
 ],
 "metadata": {
  "kernelspec": {
   "display_name": ".venv",
   "language": "python",
   "name": "python3"
  },
  "language_info": {
   "codemirror_mode": {
    "name": "ipython",
    "version": 3
   },
   "file_extension": ".py",
   "mimetype": "text/x-python",
   "name": "python",
   "nbconvert_exporter": "python",
   "pygments_lexer": "ipython3",
   "version": "3.12.4"
  }
 },
 "nbformat": 4,
 "nbformat_minor": 2
}
